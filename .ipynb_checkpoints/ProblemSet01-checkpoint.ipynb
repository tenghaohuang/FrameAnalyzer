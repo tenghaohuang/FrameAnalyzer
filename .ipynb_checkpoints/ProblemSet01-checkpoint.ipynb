{
 "cells": [
  {
   "cell_type": "markdown",
   "metadata": {
    "course": "Comp521F19",
    "problemset": 1,
    "section": "header"
   },
   "source": [
    "<div style=\"text-align: center;\">\n",
    "<h1>The University of North Carolina at Chapel Hill</h1>\n",
    "<h1>Comp 521 Files and Databases - Fall 2019</h1>\n",
    "<h1 style=\"font-size: 250%;\">Problem Set #1</h1>\n",
    "<h1 style=\"font-size: 200%;\">Version 1.0</h1>\n",
    "<h1>Issued Tuesday 09/03/2019; Due Tuesday 09/17/2019</h1>\n",
    "</div>\n",
    "\n",
    "**Homework Information:** The answer cells in this notebook contain metadata that enable it to be automatically parsed. Thus, you must enter your answers *only* into the cells provided. Do not delete any answer cell and/or add a new one to replace it. If you do so by accident, download a new copy of the problem set's notebook and transfer your answers into it. You can introduce new 'coding' cells in an effort to test approaches to problems, however, these introduced cells will not be considered when grading.\n",
    "\n",
    "Finally, some of the problems are probably too long to be done the night before the due date, so plan accordingly. Late problem sets will be accepted, but your lowest problem-set grade will be dropped. Feel free to get help from others, but the work you submit in should be your own."
   ]
  },
  {
   "cell_type": "code",
   "execution_count": 1,
   "metadata": {
    "collapsed": true,
    "section": "signature"
   },
   "outputs": [],
   "source": [
    "# Do not make any edits in this cell!\n",
    "class Student:\n",
    "    first = \"Tenghao\"\n",
    "    last = \"Huang\"\n",
    "    onyen = \"tenghao\"\n",
    "    pid = \"740243025\""
   ]
  },
  {
   "cell_type": "markdown",
   "metadata": {
    "section": "setup"
   },
   "source": [
    "The following questions relate to the design of a schema for an NFL database.\n",
    "Your primary data is provided in two downloadable text files. The first, is called <a href=\"https://csbio.unc.edu/mcmillan/Media/NFLrosters.csv\">\"NFLrosters.csv\"</a> and has the following format:\n",
    "<pre><code style=\"font-size:80%;\">\nteam,year,jersey,name,position,height,weight,games,starts,college,dob,draftYear,draftRound,draftOrder,draftTeam\ncarolina-panthers,2003,52,Brian Allen,LB,6-3,215,14,4,Florida State,--,--,--,--,--\ncarolina-panthers,2003,80,Eugene Baker,WR,6-2,183,1,0,Kent State,1976-03-18,1999,5,164,atlanta-falcons\ncarolina-panthers,2003,47,Marco Battaglia,TE,6-3,250,2,0,Rutgers,1973-01-25,1996,2,39,cincinnati-bengals\ncarolina-panthers,2003,--,Nathan Black,WR,6-0,190,0,0,Northwestern State,1978-06-20,--,--,--,--\ncarolina-panthers,2003,28,Colin Branch,DB,6-0,203,16,0,Stanford,1980-03-02,2003,4,119,carolina-panthers\ncarolina-panthers,2003,79,Doug Brzezinski,OG,6-4,305,1,0,Boston College,1976-03-11,1999,3,64,philadelphia-eagles\ncarolina-panthers,2003,99,Brentson Buckner,DT,6-2,305,12,12,Clemson,1971-09-30,1994,2,50,pittsburgh-steelers\ncarolina-panthers,2003,98,Shane Burton,DE,6-6,305,16,4,Tennessee,1974-01-18,1996,5,150,miami-dolphins\ncarolina-panthers,2003,59,Mike Caldwell,LB,6-2,200,9,0,Middle Tennessee State,--,--,--,--,--\ncarolina-panthers,2003,50,Vinny Ciurciu,LB,6-0,235,2,0,Boston College,1980-05-02,--,--,--,--\ncarolina-panthers,2003,40,Jarrod Cooper,DB,6-0,210,12,0,Kansas State,1978-03-31,2001,5,143,carolina-panthers\n                 .\n                 .\n                 .\n    </code></pre>\n",
    "A roster is a list of the players on a given team in a given year.\n       Each row also includes information about the player, such as their jersey number, position,\n       and the number of games that they played in and started in the given year.\n       It also includes information related the college they attended and their draft order if applicable.\n",
    "The second file is called <a href=\"https://csbio.unc.edu/mcmillan/Media/NFLgames.csv\">\"NFLgames.csv\"</a> and has the following format:\n",
    "<pre><code style=\"font-size:80%;\">\nseason,week,date,visitor,vScore,home,hScore,notes\n2018,1,2018-09-06,atlanta-falcons,12,philadelphia-eagles,18,\n2018,1,2018-09-09,buffalo-bills,3,baltimore-ravens,47,\n2018,1,2018-09-09,cincinnati-bengals,34,indianapolis-colts,23,\n2018,1,2018-09-09,pittsburgh-steelers,21,cleveland-browns,21,\n2018,1,2018-09-09,houston-texans,20,new-england-patriots,27,\n2018,1,2018-09-09,jacksonville-jaguars,20,new-york-giants,15,\n2018,1,2018-09-09,tennessee-titans,20,miami-dolphins,27,\n2018,1,2018-09-09,san-francisco-49ers,16,minnesota-vikings,24,\n2018,1,2018-09-09,tampa-bay-buccaneers,48,new-orleans-saints,40,\n2018,1,2018-09-09,kansas-city-chiefs,38,los-angeles-chargers,28,\n                 .\n                 .\n                 .\n    </code></pre>\n",
    "It provides the final score for every game played during the season.\n    The visiting and home teams names are also provided.\n    Regular season games are denoted by their week number, whereas the 'week' indicates\n    the playoff round in the post-season.\n    Special notes are included for some games."
   ]
  },
  {
   "cell_type": "markdown",
   "metadata": {
    "section": "setup"
   },
   "source": [
    "Assume a database with tables for the following entities: <b>Player</b>, <b>Team</b>, <b>Game</b>, and <b>Draft</b>.\n",
    "You can assume that each player is assigned a <em>player id</em> (PID) as a primary key.\n",
    "Likewise, each team is assigned a <em>team id</em> (TID) as a primary key.\n",
    "The primary key of the Game relation is a composite of the season, week, and hometeam's TID.\n",
    "The primary key of the Draft relation is a composite of the draftYear and draftOrder."
   ]
  },
  {
   "cell_type": "markdown",
   "metadata": {
    "case": 1,
    "number": 1,
    "section": "problem"
   },
   "source": [
    "---\n",
    "**Problem 1:** How many distinct entries would be populated in the Player relation using NFLroster.csv?"
   ]
  },
  {
   "cell_type": "raw",
   "metadata": {
    "case": 1,
    "key": "entity",
    "number": 1,
    "section": "answer"
   },
   "source": [
    "Enter answer here"
   ]
  },
  {
   "cell_type": "markdown",
   "metadata": {
    "case": 3,
    "number": 2,
    "section": "problem"
   },
   "source": [
    "---\n",
    "**Problem 2:** What columns, either in part or in full, from NFLroster.csv would you include in the Team table? Consider that teams have historically changed both locations and mascots."
   ]
  },
  {
   "cell_type": "raw",
   "metadata": {
    "case": 3,
    "key": "entity",
    "number": 2,
    "section": "answer"
   },
   "source": [
    "Enter answer here"
   ]
  },
  {
   "cell_type": "markdown",
   "metadata": {
    "case": 4,
    "number": 3,
    "section": "problem"
   },
   "source": [
    "---\n",
    "**Problem 3:** How many distinct entries would be populated in the Team relation using NFLroster.csv?"
   ]
  },
  {
   "cell_type": "raw",
   "metadata": {
    "case": 4,
    "key": "entity",
    "number": 3,
    "section": "answer"
   },
   "source": [
    "Enter answer here"
   ]
  },
  {
   "cell_type": "markdown",
   "metadata": {
    "case": 9,
    "number": 4,
    "section": "problem"
   },
   "source": [
    "---\n",
    "**Problem 4:** What columns from the NFLgames.csv and other Entities, in addtion to the specified composite key values, would you include in the Game table?"
   ]
  },
  {
   "cell_type": "raw",
   "metadata": {
    "case": 9,
    "key": "entity",
    "number": 4,
    "section": "answer"
   },
   "source": [
    "Enter answer here"
   ]
  },
  {
   "cell_type": "markdown",
   "metadata": {
    "case": 13,
    "number": 5,
    "section": "problem"
   },
   "source": [
    "---\n",
    "**Problem 5:** What team has played the fewest games?"
   ]
  },
  {
   "cell_type": "raw",
   "metadata": {
    "case": 13,
    "key": "entity",
    "number": 5,
    "section": "answer"
   },
   "source": [
    "Enter answer here"
   ]
  },
  {
   "cell_type": "markdown",
   "metadata": {
    "case": 20,
    "number": 6,
    "section": "problem"
   },
   "source": [
    "---\n",
    "**Problem 6:** Given an example of a foreign key that might appear in one of given Entity tables, Player, Team, Game, and Draft, that is not part of its primary key?"
   ]
  },
  {
   "cell_type": "raw",
   "metadata": {
    "case": 20,
    "key": "entity",
    "number": 6,
    "section": "answer"
   },
   "source": [
    "Enter answer here"
   ]
  },
  {
   "cell_type": "markdown",
   "metadata": {
    "section": "setup"
   },
   "source": [
    "---\n",
    "The next series of question consider the two relations <b>PlayedFor</b> and <b>LocatedAt</b>.\n",
    "PlayedFor has a primary key composed of a season-year, a PID, and a TID, as well as other attributes.\n",
    "LocatedAt has a primary key composed of a season-year, and a TID, as well as other attributes."
   ]
  },
  {
   "cell_type": "markdown",
   "metadata": {
    "case": 2,
    "number": 7,
    "section": "problem"
   },
   "source": [
    "---\n",
    "**Problem 7:** What columns from NFLroster.csv and other Entities should be declared as foreign keys in the LocatedAt table? Assume that LocatedAt captures historical Team data from previous as well as the current season."
   ]
  },
  {
   "cell_type": "raw",
   "metadata": {
    "case": 2,
    "key": "relation",
    "number": 7,
    "section": "answer"
   },
   "source": [
    "Enter answer here"
   ]
  },
  {
   "cell_type": "markdown",
   "metadata": {
    "case": 5,
    "number": 8,
    "section": "problem"
   },
   "source": [
    "---\n",
    "**Problem 8:** Based on the data provided, estimate the size of the LocatedAt table. Explain your estimate."
   ]
  },
  {
   "cell_type": "raw",
   "metadata": {
    "case": 5,
    "key": "relation",
    "number": 8,
    "section": "answer"
   },
   "source": [
    "Enter answer here"
   ]
  },
  {
   "cell_type": "markdown",
   "metadata": {
    "case": 6,
    "number": 9,
    "section": "problem"
   },
   "source": [
    "---\n",
    "**Problem 9:** Budding DBA Lee Hart has suggested placing the \"weight\" field in the PlayedFor table rather than the Player table. What are the advantages or disadvantages of this modification?"
   ]
  },
  {
   "cell_type": "raw",
   "metadata": {
    "case": 6,
    "key": "relation",
    "number": 9,
    "section": "answer"
   },
   "source": [
    "Enter answer here"
   ]
  },
  {
   "cell_type": "markdown",
   "metadata": {
    "case": 10,
    "number": 10,
    "section": "problem"
   },
   "source": [
    "---\n",
    "**Problem 10:** What tables must be considered to calculate the win and loss records of a given Player?"
   ]
  },
  {
   "cell_type": "raw",
   "metadata": {
    "case": 10,
    "key": "relation",
    "number": 10,
    "section": "answer"
   },
   "source": [
    "Enter answer here"
   ]
  },
  {
   "cell_type": "markdown",
   "metadata": {
    "case": 11,
    "number": 11,
    "section": "problem"
   },
   "source": [
    "---\n",
    "**Problem 11:** What tables must be considered to calculate the number of teams that a given Player has played for?"
   ]
  },
  {
   "cell_type": "raw",
   "metadata": {
    "case": 11,
    "key": "relation",
    "number": 11,
    "section": "answer"
   },
   "source": [
    "Enter answer here"
   ]
  },
  {
   "cell_type": "markdown",
   "metadata": {
    "case": 15,
    "number": 12,
    "section": "problem"
   },
   "source": [
    "---\n",
    "**Problem 12:** One attribute that might be included in the LocatedAt table is a \"coach\" field. Many but not all coaches, however, were once Players. Suggest schema changes that would connect a coach to their Player record if relevant."
   ]
  },
  {
   "cell_type": "raw",
   "metadata": {
    "case": 15,
    "key": "relation",
    "number": 12,
    "section": "answer"
   },
   "source": [
    "Enter answer here"
   ]
  },
  {
   "cell_type": "markdown",
   "metadata": {
    "section": "setup"
   },
   "source": [
    "...\n",
    "For the next series of questions enter valid SQL statements.\n",
    "In some cases you will need to reference PIDs and TIDs using the helper functions\n",
    "getPID(name,dob,college) and getTID(teamName,year) respectively."
   ]
  },
  {
   "cell_type": "markdown",
   "metadata": {
    "case": 0,
    "number": 13,
    "section": "problem"
   },
   "source": [
    "---\n",
    "**Problem 13:** Give the CREATE TABLE command for your implementation of the Player table. Include all primary and foriegn key declarions as well as any unique constraints."
   ]
  },
  {
   "cell_type": "raw",
   "metadata": {
    "case": 0,
    "key": "sql",
    "number": 13,
    "section": "answer"
   },
   "source": [
    "Enter answer here"
   ]
  },
  {
   "cell_type": "markdown",
   "metadata": {
    "case": 2,
    "number": 14,
    "section": "problem"
   },
   "source": [
    "---\n",
    "**Problem 14:** Give the CREATE TABLE command for your implementation of the Game table. Include all primary and foriegn key declarions as well as any unique constraints."
   ]
  },
  {
   "cell_type": "raw",
   "metadata": {
    "case": 2,
    "key": "sql",
    "number": 14,
    "section": "answer"
   },
   "source": [
    "Enter answer here"
   ]
  },
  {
   "cell_type": "markdown",
   "metadata": {
    "case": 8,
    "number": 15,
    "section": "problem"
   },
   "source": [
    "---\n",
    "**Problem 15:** Give INSERT commands that add 'Los Vegas Raiders' to your Team and LocatedAt tables. Assume that a TID is automatically created on any insert to the Team table."
   ]
  },
  {
   "cell_type": "raw",
   "metadata": {
    "case": 8,
    "key": "sql",
    "number": 15,
    "section": "answer"
   },
   "source": [
    "Enter answer here"
   ]
  },
  {
   "cell_type": "markdown",
   "metadata": {
    "case": 10,
    "number": 16,
    "section": "problem"
   },
   "source": [
    "---\n",
    "**Problem 16:** Give INSERT commands that add 'Houston Oilers' to your Team and LocatedAt tables. Assume that a TID is automatically created on any insert to the Team table."
   ]
  },
  {
   "cell_type": "raw",
   "metadata": {
    "case": 10,
    "key": "sql",
    "number": 16,
    "section": "answer"
   },
   "source": [
    "Enter answer here"
   ]
  },
  {
   "cell_type": "markdown",
   "metadata": {
    "case": 11,
    "number": 17,
    "section": "problem"
   },
   "source": [
    "---\n",
    "**Problem 17:** Give an INSERT command that adds the score of 2000 superbowl (played in 2001) to the Game tables. Use actual data from NFLgames.csv."
   ]
  },
  {
   "cell_type": "raw",
   "metadata": {
    "case": 11,
    "key": "sql",
    "number": 17,
    "section": "answer"
   },
   "source": [
    "Enter answer here"
   ]
  },
  {
   "cell_type": "markdown",
   "metadata": {
    "case": 13,
    "number": 18,
    "section": "problem"
   },
   "source": [
    "---\n",
    "**Problem 18:** Give an INSERT command that adds the score of 2012 American Conference Championship (played in 2013) to the Game tables. Use actual data from NFLgames.csv."
   ]
  },
  {
   "cell_type": "raw",
   "metadata": {
    "case": 13,
    "key": "sql",
    "number": 18,
    "section": "answer"
   },
   "source": [
    "Enter answer here"
   ]
  },
  {
   "cell_type": "markdown",
   "metadata": {
    "case": 15,
    "number": 19,
    "section": "problem"
   },
   "source": [
    "---\n",
    "**Problem 19:** Give INSERT commands that add records for 'Jason Myers' to the PlayedFor tables. Use actual data from NFLroster.csv."
   ]
  },
  {
   "cell_type": "raw",
   "metadata": {
    "case": 15,
    "key": "sql",
    "number": 19,
    "section": "answer"
   },
   "source": [
    "Enter answer here"
   ]
  },
  {
   "cell_type": "markdown",
   "metadata": {
    "case": 17,
    "number": 20,
    "section": "problem"
   },
   "source": [
    "---\n",
    "**Problem 20:** Give INSERT commands that add records for 'Randy Moss' to the PlayedFor tables. Use actual data from NFLroster.csv. Note: he was once traded in mid-season, what implications does this have?"
   ]
  },
  {
   "cell_type": "raw",
   "metadata": {
    "case": 17,
    "key": "sql",
    "number": 20,
    "section": "answer"
   },
   "source": [
    "Enter answer here"
   ]
  },
  {
   "cell_type": "markdown",
   "metadata": {},
   "source": [
    "Click [here to submit](http://csbio.unc.edu/mcmillan/index.py?run=PS.upload) your completed problem set.\n",
    "\n",
    "You can submit it as many times as you would like, but only the last submitted version will be graded. If the last submission was after the due date the final score will be reduced accordingly. "
   ]
  }
 ],
 "metadata": {
  "kernelspec": {
   "display_name": "Python 3",
   "language": "python",
   "name": "python3"
  },
  "language_info": {
   "codemirror_mode": {
    "name": "ipython",
    "version": 2
   },
   "file_extension": ".py",
   "mimetype": "text/x-python",
   "name": "python",
   "nbconvert_exporter": "python",
   "pygments_lexer": "ipython2",
   "version": "2.7.11"
  }
 },
 "nbformat": 4,
 "nbformat_minor": 0
}
